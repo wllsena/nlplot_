{
 "cells": [
  {
   "cell_type": "code",
   "execution_count": null,
   "metadata": {},
   "outputs": [],
   "source": [
    "import pandas as pd\n",
    "from datasets import Dataset\n",
    "from transformers import AutoTokenizer, AutoModelForSeq2SeqLM"
   ]
  },
  {
   "cell_type": "code",
   "execution_count": null,
   "metadata": {},
   "outputs": [],
   "source": [
    "train_df = pd.read_csv('./dataset/final/train.csv', usecols=['source', 'label'])\n",
    "train_df['source'] = train_df['source'].str.lower()\n",
    "train_df['label'] = train_df['label'].str.lower()\n",
    "train_ds = Dataset.from_pandas(train_df)\n",
    "\n",
    "test_df = pd.read_csv('./dataset/final/test.csv', usecols=['source', 'label'])\n",
    "test_df['source'] = test_df['source'].str.lower()\n",
    "test_df['label'] = test_df['label'].str.lower()\n",
    "test_ds = Dataset.from_pandas(test_df)\n",
    "\n",
    "dev_df = pd.read_csv('./dataset/final/dev.csv', usecols=['source', 'label'])\n",
    "dev_df['source'] = dev_df['source'].str.lower()\n",
    "dev_df['label'] = dev_df['label'].str.lower()\n",
    "dev_ds = Dataset.from_pandas(dev_df)\n",
    "\n",
    "all_df = pd.concat((train_df, test_df, dev_df))\n",
    "all_ds = Dataset.from_pandas(all_df)"
   ]
  },
  {
   "cell_type": "code",
   "execution_count": null,
   "metadata": {
    "scrolled": true
   },
   "outputs": [],
   "source": [
    "tokenizer = AutoTokenizer.from_pretrained('./results', local_files_only=True)\n",
    "model = AutoModelForSeq2SeqLM.from_pretrained('./results', local_files_only=True)"
   ]
  },
  {
   "cell_type": "code",
   "execution_count": null,
   "metadata": {
    "scrolled": true
   },
   "outputs": [],
   "source": [
    "a = 0\n",
    "t = 0\n",
    "\n",
    "for source, label in zip(test_df['source'], test_df['label']):\n",
    "    input_ids = tokenizer(source, return_tensors=\"pt\", max_length=256, padding=True, truncation=True).input_ids \n",
    "    outputs = model.generate(input_ids)\n",
    "    \n",
    "    decoded = ''.join(tokenizer.convert_ids_to_tokens(outputs[0])[1:-1]).replace('▁', ' ').strip()\n",
    "    \n",
    "    t += 1\n",
    "\n",
    "    if decoded == label:\n",
    "        a += 1\n",
    "    else:\n",
    "        print(source)\n",
    "        print(decoded)\n",
    "        print(label)\n",
    "        print()"
   ]
  },
  {
   "cell_type": "code",
   "execution_count": null,
   "metadata": {},
   "outputs": [],
   "source": []
  }
 ],
 "metadata": {
  "kernelspec": {
   "display_name": "Python 3",
   "language": "python",
   "name": "python3"
  },
  "language_info": {
   "codemirror_mode": {
    "name": "ipython",
    "version": 3
   },
   "file_extension": ".py",
   "mimetype": "text/x-python",
   "name": "python",
   "nbconvert_exporter": "python",
   "pygments_lexer": "ipython3",
   "version": "3.8.3"
  }
 },
 "nbformat": 4,
 "nbformat_minor": 5
}
