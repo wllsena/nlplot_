{
 "cells": [
  {
   "cell_type": "code",
   "execution_count": null,
   "metadata": {},
   "outputs": [],
   "source": [
    "import pandas as pd\n",
    "from datasets import Dataset\n",
    "from transformers import AutoTokenizer\n",
    "from tokenizers.pre_tokenizers import WhitespaceSplit\n",
    "from transformers import AutoModelForSeq2SeqLM, Seq2SeqTrainingArguments, Seq2SeqTrainer\n",
    "from transformers import DataCollatorForSeq2Seq"
   ]
  },
  {
   "cell_type": "code",
   "execution_count": null,
   "metadata": {},
   "outputs": [],
   "source": [
    "train_df = pd.read_csv('./dataset/final/train.csv', usecols=['source', 'label'])\n",
    "train_df['source'] = train_df['source'].str.lower()\n",
    "train_df['label'] = train_df['label'].str.lower()\n",
    "train_ds = Dataset.from_pandas(train_df)\n",
    "\n",
    "test_df = pd.read_csv('./dataset/final/test.csv', usecols=['source', 'label'])\n",
    "test_df['source'] = test_df['source'].str.lower()\n",
    "test_df['label'] = test_df['label'].str.lower()\n",
    "test_ds = Dataset.from_pandas(test_df)\n",
    "\n",
    "dev_df = pd.read_csv('./dataset/final/dev.csv', usecols=['source', 'label'])\n",
    "dev_df['source'] = dev_df['source'].str.lower()\n",
    "dev_df['label'] = dev_df['label'].str.lower()\n",
    "dev_ds = Dataset.from_pandas(dev_df)\n",
    "\n",
    "all_df = pd.concat((train_df, test_df, dev_df))\n",
    "all_ds = Dataset.from_pandas(all_df)"
   ]
  },
  {
   "cell_type": "code",
   "execution_count": null,
   "metadata": {},
   "outputs": [],
   "source": [
    "tokenizer.save_model()"
   ]
  },
  {
   "cell_type": "code",
   "execution_count": null,
   "metadata": {},
   "outputs": [],
   "source": [
    "from tokenizers import normalizers, pre_tokenizers, ByteLevelBPETokenizer\n",
    "\n",
    "tokenizer = ByteLevelBPETokenizer()\n",
    "tokenizer.normalizer = normalizers.Lowercase()\n",
    "tokenizer.pre_tokenizer = pre_tokenizers.WhitespaceSplit()\n",
    "\n",
    "tokenizer.train_from_iterator(all_ds['source'] + all_ds['label'])\n",
    "\n",
    "tokenizer.save('./results/tokenizer.json')\n",
    "\n",
    "tokenizer = AutoTokenizer.from_pretrained('AhmedSSoliman/MarianCG-NL-to-Code') # './results')  \n",
    "\n",
    "def preprocess(examples):\n",
    "    model_inputs = tokenizer(examples['source'], max_length=128, padding=True, truncation=True)\n",
    "    labels = tokenizer(examples['label'], max_length=128, padding=True, truncation=True)\n",
    "\n",
    "    model_inputs['labels'] = labels['input_ids']\n",
    "    \n",
    "    return model_inputs\n",
    "\n",
    "train = train_ds.map(preprocess, batched=True)\n",
    "test = test_ds.map(preprocess, batched=True)\n",
    "dev = dev_ds.map(preprocess, batched=True)\n",
    "\n",
    "columns_to_return = ['input_ids', 'labels', 'attention_mask']\n",
    "train.set_format(type='torch', columns=columns_to_return)\n",
    "test.set_format(type='torch', columns=columns_to_return)\n",
    "dev.set_format(type='torch', columns=columns_to_return)"
   ]
  },
  {
   "cell_type": "code",
   "execution_count": null,
   "metadata": {
    "scrolled": true
   },
   "outputs": [],
   "source": [
    "model = AutoModelForSeq2SeqLM.from_pretrained('AhmedSSoliman/MarianCG-NL-to-Code')\n",
    "data_collator = DataCollatorForSeq2Seq(tokenizer=tokenizer, model=model)"
   ]
  },
  {
   "cell_type": "code",
   "execution_count": null,
   "metadata": {
    "scrolled": false
   },
   "outputs": [],
   "source": [
    "training_args = Seq2SeqTrainingArguments(\n",
    "    output_dir='./results',\n",
    "    evaluation_strategy='epoch',\n",
    "    learning_rate=2e-5,\n",
    "    per_device_train_batch_size=16,\n",
    "    per_device_eval_batch_size=16,\n",
    "    weight_decay=0.01,\n",
    "    save_total_limit=3,\n",
    "    num_train_epochs=1,\n",
    "    fp16=True,\n",
    ")\n",
    "\n",
    "trainer = Seq2SeqTrainer(\n",
    "    model=model,\n",
    "    args=training_args,\n",
    "    train_dataset=train,\n",
    "    eval_dataset=dev,\n",
    "    tokenizer=tokenizer,\n",
    "    data_collator=data_collator,\n",
    ")\n",
    "\n",
    "trainer.train()\n",
    "\n",
    "trainer.save_model()"
   ]
  },
  {
   "cell_type": "code",
   "execution_count": null,
   "metadata": {
    "scrolled": true
   },
   "outputs": [],
   "source": [
    "tokenizer = AutoTokenizer.from_pretrained('./results', local_files_only=True)\n",
    "model = AutoModelForSeq2SeqLM.from_pretrained('./results', local_files_only=True)"
   ]
  },
  {
   "cell_type": "code",
   "execution_count": null,
   "metadata": {
    "scrolled": true
   },
   "outputs": [],
   "source": [
    "a = 0\n",
    "t = 0\n",
    "\n",
    "for source, label in zip(test_df['source'], test_df['label']):\n",
    "    input_ids = tokenizer(source, return_tensors=\"pt\", max_length=128, padding=True, truncation=True).input_ids \n",
    "    outputs = model.generate(input_ids)\n",
    "    \n",
    "    decoded = ''.join(tokenizer.convert_ids_to_tokens(outputs[0])[1:-1]).replace('▁', ' ').strip()\n",
    "    \n",
    "    t += 1\n",
    "\n",
    "    if decoded == label:\n",
    "        a += 1\n",
    "    else:\n",
    "        print(source)\n",
    "        print(decoded)\n",
    "        print(label)\n",
    "        print()"
   ]
  },
  {
   "cell_type": "code",
   "execution_count": null,
   "metadata": {},
   "outputs": [],
   "source": []
  }
 ],
 "metadata": {
  "kernelspec": {
   "display_name": "Python 3",
   "language": "python",
   "name": "python3"
  },
  "language_info": {
   "codemirror_mode": {
    "name": "ipython",
    "version": 3
   },
   "file_extension": ".py",
   "mimetype": "text/x-python",
   "name": "python",
   "nbconvert_exporter": "python",
   "pygments_lexer": "ipython3",
   "version": "3.8.3"
  }
 },
 "nbformat": 4,
 "nbformat_minor": 5
}
