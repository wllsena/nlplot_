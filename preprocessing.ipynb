{
 "cells": [
  {
   "cell_type": "code",
   "execution_count": 1,
   "id": "d9f4bea4",
   "metadata": {},
   "outputs": [],
   "source": [
    "import pandas as pd\n",
    "import os\n",
    "import re\n",
    "from nltk.tokenize import word_tokenize"
   ]
  },
  {
   "cell_type": "code",
   "execution_count": 2,
   "id": "2789b2dd",
   "metadata": {},
   "outputs": [],
   "source": [
    "dtypes = {'int64': 'int', 'object': 'str', 'float64': 'float'}"
   ]
  },
  {
   "cell_type": "code",
   "execution_count": 3,
   "id": "bc1f8665",
   "metadata": {},
   "outputs": [],
   "source": [
    "columns = {}\n",
    "\n",
    "for file in os.listdir('./dataset/database/'):\n",
    "    table = pd.read_csv('./dataset/database/' + file)\n",
    "    cols = [c.lower() + ' - ' +  dtypes[str(t)] for c, t in zip(table.columns, table.dtypes)]\n",
    "    \n",
    "    columns[file.split('.', 1)[0]] = str(table.shape[0]) + ' . ' + str(table.shape[1]) + ' . ' + ' , '.join(cols)"
   ]
  },
  {
   "cell_type": "code",
   "execution_count": 4,
   "id": "19c50f13",
   "metadata": {},
   "outputs": [],
   "source": [
    "vocab_source = set()\n",
    "vocab_label = set()\n",
    "\n",
    "for each in ['train.csv', 'dev.csv', 'test.csv']:\n",
    "    df = pd.read_csv('./dataset/' + each)\n",
    "    final = {'file': [], 'source': [], 'label': []}\n",
    "    \n",
    "    for _, row in df.iterrows():\n",
    "        vega_zero = row['vega_zero']\n",
    "        tokens = vega_zero.lower().split(' ')\n",
    "        \n",
    "        file = (row['db_id'] + '_' + tokens[tokens.index('data') + 1]).lower()\n",
    "        cols = columns[file]\n",
    "        \n",
    "        if not isinstance(row['question'], str):\n",
    "            continue\n",
    "        \n",
    "        source = cols + ' | ' + row['question']\n",
    "        \n",
    "        file = re.sub(r'\\s+', ' ', file)\n",
    "        final['file'].append(file.lower().strip())\n",
    "        \n",
    "        source = re.sub(r'\\s+', ' ', source)\n",
    "        final['source'].append(source.lower().strip())\n",
    "        \n",
    "        vega_zero = re.sub(r'data\\s[^\\s]+', '', vega_zero)\n",
    "        vega_zero = re.sub(r'group\\s[^\\s]+', '', vega_zero)\n",
    "        vega_zero = re.sub(r'\\s+', ' ', vega_zero)\n",
    "        final['label'].append(vega_zero.lower().strip())\n",
    "        \n",
    "        for token in word_tokenize(source, language='english'):\n",
    "            vocab_source.add(token.lower())\n",
    "            \n",
    "        for token in word_tokenize(vega_zero, language='english'):\n",
    "            vocab_label.add(token.lower()) \n",
    "        \n",
    "    final = pd.DataFrame(final)\n",
    "    final.to_csv('./dataset/final/' + each, index=False)"
   ]
  },
  {
   "cell_type": "code",
   "execution_count": null,
   "id": "cdcf6f3c",
   "metadata": {},
   "outputs": [],
   "source": []
  }
 ],
 "metadata": {
  "kernelspec": {
   "display_name": "Python 3 (ipykernel)",
   "language": "python",
   "name": "python3"
  },
  "language_info": {
   "codemirror_mode": {
    "name": "ipython",
    "version": 3
   },
   "file_extension": ".py",
   "mimetype": "text/x-python",
   "name": "python",
   "nbconvert_exporter": "python",
   "pygments_lexer": "ipython3",
   "version": "3.9.12"
  }
 },
 "nbformat": 4,
 "nbformat_minor": 5
}
