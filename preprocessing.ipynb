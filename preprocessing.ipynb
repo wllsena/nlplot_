{
 "cells": [
  {
   "cell_type": "code",
   "execution_count": 1,
   "id": "9d950276",
   "metadata": {},
   "outputs": [],
   "source": [
    "import pandas as pd\n",
    "import os\n",
    "from nltk.tokenize import word_tokenize"
   ]
  },
  {
   "cell_type": "code",
   "execution_count": 2,
   "id": "c074c944",
   "metadata": {},
   "outputs": [],
   "source": [
    "dtypes = {'int64': 'int', 'object': 'str', 'float64': 'float'}"
   ]
  },
  {
   "cell_type": "code",
   "execution_count": 3,
   "id": "6e32921b",
   "metadata": {},
   "outputs": [],
   "source": [
    "columns = {}\n",
    "\n",
    "for file in os.listdir('./dataset/database/'):\n",
    "    table = pd.read_csv('./dataset/database/' + file)\n",
    "    cols = [c.lower() + ' ' +  dtypes[str(t)] for c, t in zip(table.columns, table.dtypes)]\n",
    "    \n",
    "    columns[file.split('.', 1)[0]] = ' '.join(cols)"
   ]
  },
  {
   "cell_type": "code",
   "execution_count": 4,
   "id": "0dcd16d5",
   "metadata": {},
   "outputs": [],
   "source": [
    "vocab_source = set()\n",
    "vocab_label = set()\n",
    "\n",
    "for each in ['train.csv', 'dev.csv', 'test.csv']:\n",
    "    df = pd.read_csv('./dataset/' + each)\n",
    "    final = {'file': [], 'source': [], 'label': []}\n",
    "    \n",
    "    for _, row in df.iterrows():\n",
    "        vega_zero = row['vega_zero']\n",
    "        tokens = vega_zero.lower().split(' ')\n",
    "        \n",
    "        file = (row['db_id'] + '_' + tokens[tokens.index('data') + 1]).lower()\n",
    "        cols = columns[file]\n",
    "        \n",
    "        if not isinstance(row['question'], str):\n",
    "            continue\n",
    "        \n",
    "        source = cols + ' | ' + row['question']\n",
    "        \n",
    "        final['file'].append(file)\n",
    "        final['source'].append(source)\n",
    "        final['label'].append(vega_zero)\n",
    "        \n",
    "        for token in word_tokenize(source, language='english'):\n",
    "            vocab_source.add(token.lower())\n",
    "            \n",
    "        for token in word_tokenize(vega_zero, language='english'):\n",
    "            vocab_label.add(token.lower()) \n",
    "        \n",
    "    final = pd.DataFrame(final)\n",
    "    final.to_csv('./dataset/final/' + each, index=False)"
   ]
  },
  {
   "cell_type": "code",
   "execution_count": 5,
   "id": "a5a9dbcf",
   "metadata": {},
   "outputs": [],
   "source": [
    "with open('./dataset/vocab_source.txt', 'w') as file:\n",
    "    file.write('\\n'.join(sorted(list(vocab_source))))\n",
    "    \n",
    "with open('./dataset/vocab_label.txt', 'w') as file:\n",
    "    file.write('\\n'.join(sorted(list(vocab_label))))"
   ]
  },
  {
   "cell_type": "code",
   "execution_count": null,
   "id": "c8cf7711",
   "metadata": {},
   "outputs": [],
   "source": []
  }
 ],
 "metadata": {
  "kernelspec": {
   "display_name": "Python 3 (ipykernel)",
   "language": "python",
   "name": "python3"
  },
  "language_info": {
   "codemirror_mode": {
    "name": "ipython",
    "version": 3
   },
   "file_extension": ".py",
   "mimetype": "text/x-python",
   "name": "python",
   "nbconvert_exporter": "python",
   "pygments_lexer": "ipython3",
   "version": "3.9.12"
  }
 },
 "nbformat": 4,
 "nbformat_minor": 5
}
